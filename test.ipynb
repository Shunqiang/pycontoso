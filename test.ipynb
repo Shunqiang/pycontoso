{
 "cells": [
  {
   "cell_type": "markdown",
   "metadata": {},
   "source": [
    "# Ship's Instruction Manual"
   ]
  },
  {
   "cell_type": "code",
   "execution_count": null,
   "metadata": {},
   "outputs": [],
   "source": [
    " pip install ipywidgets"
   ]
  },
  {
   "cell_type": "code",
   "execution_count": null,
   "metadata": {},
   "outputs": [],
   "source": [
    "!jupyter nbextension enable --py widgetsnbextension"
   ]
  },
  {
   "cell_type": "code",
   "execution_count": null,
   "metadata": {},
   "outputs": [],
   "source": [
    "import ipywidgets as widgets\n",
    "\n",
    "ignition = widgets.ToggleButton(\n",
    "    value=False,\n",
    "    description='Start Engine',\n",
    "    button_style='success',\n",
    "    tooltip='Engage your Engicne',\n",
    "    icon='roket'\n",
    ")\n",
    "\n",
    "output = widgets.Output()\n",
    "\n",
    "display(ignition, output)\n",
    "\n",
    "def on_value_change(change):\n",
    "    with output:\n",
    "        if change['new'] == True:\n",
    "            print(\"change\")\n",
    "        else:   \n",
    "            print(\"engine stopped\")\n",
    "\n",
    "ignition.observe(on_value_change, names='value')"
   ]
  }
 ],
 "metadata": {
  "kernelspec": {
   "display_name": "venv",
   "language": "python",
   "name": "python3"
  },
  "language_info": {
   "codemirror_mode": {
    "name": "ipython",
    "version": 3
   },
   "file_extension": ".py",
   "mimetype": "text/x-python",
   "name": "python",
   "nbconvert_exporter": "python",
   "pygments_lexer": "ipython3",
   "version": "3.10.6"
  }
 },
 "nbformat": 4,
 "nbformat_minor": 2
}
